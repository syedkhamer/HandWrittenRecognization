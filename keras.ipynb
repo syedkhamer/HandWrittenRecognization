{
 "cells": [
  {
   "cell_type": "code",
   "execution_count": 2,
   "metadata": {},
   "outputs": [
    {
     "name": "stderr",
     "output_type": "stream",
     "text": [
      "Using TensorFlow backend.\n"
     ]
    }
   ],
   "source": [
    "import tensorflow as tf\n",
    "import numpy as np\n",
    "from keras.models import Sequential\n",
    "from keras.datasets import mnist \n",
    "from keras.layers.core import Activation,Dense,Dropout\n",
    "from keras.optimizers import SGD\n",
    "from keras.utils import np_utils \n",
    "from matplotlib import pyplot as plt\n",
    "model=Sequential()\n",
    "\n"
   ]
  },
  {
   "cell_type": "code",
   "execution_count": 3,
   "metadata": {},
   "outputs": [
    {
     "data": {
      "image/png": "[encoded data removed]",
      "text/plain": [
       "<Figure size 432x288 with 2 Axes>"
      ]
     },
     "metadata": {
      "needs_background": "light"
     },
     "output_type": "display_data"
    },
    {
     "name": "stdout",
     "output_type": "stream",
     "text": [
      "[[0 0 0 ... 0 0 0]\n",
      " [0 0 0 ... 0 0 0]\n",
      " [0 0 0 ... 0 0 0]\n",
      " ...\n",
      " [0 0 0 ... 0 0 0]\n",
      " [0 0 0 ... 0 0 0]\n",
      " [0 0 0 ... 0 0 0]]\n",
      "_________________________________________________________________\n",
      "Layer (type)                 Output Shape              Param #   \n",
      "=================================================================\n",
      "dense_1 (Dense)              (None, 128)               100480    \n",
      "_________________________________________________________________\n",
      "activation_1 (Activation)    (None, 128)               0         \n",
      "_________________________________________________________________\n",
      "dense_2 (Dense)              (None, 128)               16512     \n",
      "_________________________________________________________________\n",
      "activation_2 (Activation)    (None, 128)               0         \n",
      "_________________________________________________________________\n",
      "dropout_1 (Dropout)          (None, 128)               0         \n",
      "_________________________________________________________________\n",
      "dense_3 (Dense)              (None, 10)                1290      \n",
      "_________________________________________________________________\n",
      "activation_3 (Activation)    (None, 10)                0         \n",
      "=================================================================\n",
      "Total params: 118,282\n",
      "Trainable params: 118,282\n",
      "Non-trainable params: 0\n",
      "_________________________________________________________________\n",
      "Train on 48000 samples, validate on 12000 samples\n",
      "Epoch 1/10\n",
      "48000/48000 [==============================] - 2s 45us/step - loss: 1.3741 - acc: 0.6127 - val_loss: 0.6230 - val_acc: 0.8595\n",
      "Epoch 2/10\n",
      "48000/48000 [==============================] - 2s 34us/step - loss: 0.6177 - acc: 0.8221 - val_loss: 0.4128 - val_acc: 0.8911\n",
      "Epoch 3/10\n",
      "48000/48000 [==============================] - 2s 34us/step - loss: 0.4838 - acc: 0.8583 - val_loss: 0.3496 - val_acc: 0.9033\n",
      "Epoch 4/10\n",
      "48000/48000 [==============================] - 2s 33us/step - loss: 0.4194 - acc: 0.8777 - val_loss: 0.3164 - val_acc: 0.9105\n",
      "Epoch 5/10\n",
      "48000/48000 [==============================] - 2s 33us/step - loss: 0.3826 - acc: 0.8899 - val_loss: 0.2939 - val_acc: 0.9169\n",
      "Epoch 6/10\n",
      "48000/48000 [==============================] - 2s 35us/step - loss: 0.3567 - acc: 0.8960 - val_loss: 0.2764 - val_acc: 0.9207\n",
      "Epoch 7/10\n",
      "48000/48000 [==============================] - 2s 38us/step - loss: 0.3342 - acc: 0.9029 - val_loss: 0.2619 - val_acc: 0.9245\n",
      "Epoch 8/10\n",
      "48000/48000 [==============================] - 2s 41us/step - loss: 0.3162 - acc: 0.9079 - val_loss: 0.2501 - val_acc: 0.9280\n",
      "Epoch 9/10\n",
      "48000/48000 [==============================] - 2s 32us/step - loss: 0.3023 - acc: 0.9132 - val_loss: 0.2411 - val_acc: 0.9300\n",
      "Epoch 10/10\n",
      "48000/48000 [==============================] - 1s 31us/step - loss: 0.2885 - acc: 0.9169 - val_loss: 0.2317 - val_acc: 0.9335\n",
      "60000/60000 [==============================] - 1s 10us/step\n",
      "Test score 0.23879037373699247\n",
      "Test Accuracy 0.9305833370486896\n"
     ]
    }
   ],
   "source": [
    "np.random.seed(1617)\n",
    "\n",
    "#network and training\n",
    "\n",
    "epoch=10\n",
    "size=100\n",
    "classes=10  #number of outputs\n",
    "Verbose=1\n",
    "\n",
    "Optimizer=SGD()\n",
    "N_Hidden=128\n",
    "Validiation_split=.2\n",
    "DropOut=.3\n",
    "\n",
    "(x_train,y_train),(x_test,y_test)=mnist.load_data()\n",
    "\n",
    "plt.subplot(221)\n",
    "plt.imshow(x_train[5],cmap=plt.get_cmap('gray'))\n",
    "plt.subplot(223)\n",
    "plt.imshow(x_train[1],cmap=plt.get_cmap('gray'))\n",
    "plt.show()\n",
    "\n",
    "\n",
    "Reshaped=784\n",
    "\n",
    "x_train=x_train.reshape(60000,Reshaped)\n",
    "x_test=x_test.reshape(10000,Reshaped)\n",
    "print(x_train)\n",
    "\n",
    "x_train=x_train.astype('float32')\n",
    "x_test=x_test.astype('float32')\n",
    "\n",
    "\n",
    "#normilize\n",
    "x_train/=255\n",
    "x_test/=255\n",
    "\n",
    "\n",
    "\n",
    "\n",
    "\n",
    "#print(x_train.shape[0],\"train test\")\n",
    "\n",
    "#print(x_test.shape[0],\"train test\")\n",
    "\n",
    "\n",
    "#covert the class vector to binary class matrix\n",
    "\n",
    "y_train=np_utils.to_categorical(y_train,classes)\n",
    "y_test=np_utils.to_categorical(y_test,classes)\n",
    "#print(y_train)\n",
    "\n",
    "#defining nueral network\n",
    "\n",
    "\n",
    "\n",
    "model=Sequential()\n",
    "model.add(Dense(N_Hidden,input_shape=(Reshaped,)))\n",
    "model.add(Activation('relu'))\n",
    "model.add(Dense(N_Hidden))\n",
    "model.add(Activation('relu'))\n",
    "model.add(Dropout(DropOut))\n",
    "\n",
    "model.add(Dense(classes,input_shape=(Reshaped,)))\n",
    "model.add(Activation('softmax'))# it create a k dimensional vector\n",
    "model.summary()\n",
    "\n",
    "model.compile(optimizer='sgd',loss=\"categorical_crossentropy\",metrics=['accuracy'])\n",
    "\n",
    "\n",
    "\n",
    "history=model.fit(x_train,y_train,batch_size=size,verbose=Verbose,epochs=epoch,validation_split=Validiation_split)\n",
    "score=model.evaluate(x_train,y_train,batch_size=size,verbose=Verbose)\n",
    "\n",
    "print(\"Test score\",score[0])\n",
    "print(\"Test Accuracy\",score[1])\n",
    "\n",
    "\n",
    "       "
   ]
  },
  {
   "cell_type": "code",
   "execution_count": null,
   "metadata": {},
   "outputs": [],
   "source": []
  }
 ],
 "metadata": {
  "kernelspec": {
   "display_name": "Python 3",
   "language": "python",
   "name": "python3"
  },
  "language_info": {
   "codemirror_mode": {
    "name": "ipython",
    "version": 3
   },
   "file_extension": ".py",
   "mimetype": "text/x-python",
   "name": "python",
   "nbconvert_exporter": "python",
   "pygments_lexer": "ipython3",
   "version": "3.6.6"
  }
 },
 "nbformat": 4,
 "nbformat_minor": 2
}
